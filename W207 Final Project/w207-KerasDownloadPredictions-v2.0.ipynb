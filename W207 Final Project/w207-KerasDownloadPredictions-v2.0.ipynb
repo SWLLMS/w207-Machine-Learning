{
 "cells": [
  {
   "cell_type": "code",
   "execution_count": 1,
   "metadata": {},
   "outputs": [
    {
     "name": "stderr",
     "output_type": "stream",
     "text": [
      "2023-04-21 22:00:09.708454: I tensorflow/core/platform/cpu_feature_guard.cc:193] This TensorFlow binary is optimized with oneAPI Deep Neural Network Library (oneDNN) to use the following CPU instructions in performance-critical operations:  AVX2 FMA\n",
      "To enable them in other operations, rebuild TensorFlow with the appropriate compiler flags.\n"
     ]
    }
   ],
   "source": [
    "import numpy as np \n",
    "import pandas as pd\n",
    "import tensorflow as tf\n",
    "from sklearn.model_selection import train_test_split\n",
    "from tensorflow import keras\n",
    "from keras import layers\n",
    "from keras.models import Sequential\n",
    "\n",
    "from tensorflow.keras.layers import IntegerLookup"
   ]
  },
  {
   "cell_type": "code",
   "execution_count": 2,
   "metadata": {},
   "outputs": [
    {
     "data": {
      "text/html": [
       "<div>\n",
       "<style scoped>\n",
       "    .dataframe tbody tr th:only-of-type {\n",
       "        vertical-align: middle;\n",
       "    }\n",
       "\n",
       "    .dataframe tbody tr th {\n",
       "        vertical-align: top;\n",
       "    }\n",
       "\n",
       "    .dataframe thead th {\n",
       "        text-align: right;\n",
       "    }\n",
       "</style>\n",
       "<table border=\"1\" class=\"dataframe\">\n",
       "  <thead>\n",
       "    <tr style=\"text-align: right;\">\n",
       "      <th></th>\n",
       "      <th>Unnamed: 0</th>\n",
       "      <th>ip</th>\n",
       "      <th>app</th>\n",
       "      <th>device</th>\n",
       "      <th>os</th>\n",
       "      <th>channel</th>\n",
       "      <th>click_time</th>\n",
       "      <th>attributed_time</th>\n",
       "      <th>is_attributed</th>\n",
       "    </tr>\n",
       "  </thead>\n",
       "  <tbody>\n",
       "    <tr>\n",
       "      <th>0</th>\n",
       "      <td>0</td>\n",
       "      <td>36183</td>\n",
       "      <td>12</td>\n",
       "      <td>1</td>\n",
       "      <td>3</td>\n",
       "      <td>245</td>\n",
       "      <td>2017-11-06 23:32:20</td>\n",
       "      <td>NaN</td>\n",
       "      <td>0</td>\n",
       "    </tr>\n",
       "    <tr>\n",
       "      <th>1</th>\n",
       "      <td>1</td>\n",
       "      <td>77792</td>\n",
       "      <td>15</td>\n",
       "      <td>1</td>\n",
       "      <td>17</td>\n",
       "      <td>265</td>\n",
       "      <td>2017-11-06 16:22:50</td>\n",
       "      <td>NaN</td>\n",
       "      <td>0</td>\n",
       "    </tr>\n",
       "    <tr>\n",
       "      <th>2</th>\n",
       "      <td>2</td>\n",
       "      <td>147957</td>\n",
       "      <td>9</td>\n",
       "      <td>1</td>\n",
       "      <td>19</td>\n",
       "      <td>232</td>\n",
       "      <td>2017-11-06 22:22:34</td>\n",
       "      <td>NaN</td>\n",
       "      <td>0</td>\n",
       "    </tr>\n",
       "    <tr>\n",
       "      <th>3</th>\n",
       "      <td>3</td>\n",
       "      <td>28082</td>\n",
       "      <td>15</td>\n",
       "      <td>1</td>\n",
       "      <td>19</td>\n",
       "      <td>245</td>\n",
       "      <td>2017-11-06 21:00:04</td>\n",
       "      <td>NaN</td>\n",
       "      <td>0</td>\n",
       "    </tr>\n",
       "    <tr>\n",
       "      <th>4</th>\n",
       "      <td>4</td>\n",
       "      <td>105128</td>\n",
       "      <td>12</td>\n",
       "      <td>1</td>\n",
       "      <td>13</td>\n",
       "      <td>245</td>\n",
       "      <td>2017-11-06 23:04:56</td>\n",
       "      <td>NaN</td>\n",
       "      <td>0</td>\n",
       "    </tr>\n",
       "  </tbody>\n",
       "</table>\n",
       "</div>"
      ],
      "text/plain": [
       "   Unnamed: 0      ip  app  device  os  channel           click_time  \\\n",
       "0           0   36183   12       1   3      245  2017-11-06 23:32:20   \n",
       "1           1   77792   15       1  17      265  2017-11-06 16:22:50   \n",
       "2           2  147957    9       1  19      232  2017-11-06 22:22:34   \n",
       "3           3   28082   15       1  19      245  2017-11-06 21:00:04   \n",
       "4           4  105128   12       1  13      245  2017-11-06 23:04:56   \n",
       "\n",
       "  attributed_time  is_attributed  \n",
       "0             NaN              0  \n",
       "1             NaN              0  \n",
       "2             NaN              0  \n",
       "3             NaN              0  \n",
       "4             NaN              0  "
      ]
     },
     "execution_count": 2,
     "metadata": {},
     "output_type": "execute_result"
    }
   ],
   "source": [
    "dtypes = {\n",
    "    'ip': 'uint32',\n",
    "    'app': 'uint16',\n",
    "    'device': 'uint16',\n",
    "    'os': 'uint16',\n",
    "    'channel': 'uint16',\n",
    "    'click_time': 'str',\n",
    "    'attributed_time': 'str',\n",
    "    'is_attributed': 'uint8'\n",
    "}\n",
    "\n",
    "raw_df = pd.read_csv('../dataSets/final_training_sample.csv', dtype=dtypes)\n",
    "raw_df.head()\n",
    "\n"
   ]
  },
  {
   "attachments": {},
   "cell_type": "markdown",
   "metadata": {},
   "source": [
    "### Feature Engineering"
   ]
  },
  {
   "cell_type": "code",
   "execution_count": 3,
   "metadata": {},
   "outputs": [
    {
     "name": "stdout",
     "output_type": "stream",
     "text": [
      "(942229, 11)\n"
     ]
    },
    {
     "data": {
      "text/html": [
       "<div>\n",
       "<style scoped>\n",
       "    .dataframe tbody tr th:only-of-type {\n",
       "        vertical-align: middle;\n",
       "    }\n",
       "\n",
       "    .dataframe tbody tr th {\n",
       "        vertical-align: top;\n",
       "    }\n",
       "\n",
       "    .dataframe thead th {\n",
       "        text-align: right;\n",
       "    }\n",
       "</style>\n",
       "<table border=\"1\" class=\"dataframe\">\n",
       "  <thead>\n",
       "    <tr style=\"text-align: right;\">\n",
       "      <th></th>\n",
       "      <th>Unnamed: 0</th>\n",
       "      <th>ip</th>\n",
       "      <th>app</th>\n",
       "      <th>device</th>\n",
       "      <th>os</th>\n",
       "      <th>channel</th>\n",
       "      <th>click_time</th>\n",
       "      <th>attributed_time</th>\n",
       "      <th>is_attributed</th>\n",
       "      <th>day_clicked</th>\n",
       "      <th>hour_clicked</th>\n",
       "    </tr>\n",
       "  </thead>\n",
       "  <tbody>\n",
       "    <tr>\n",
       "      <th>0</th>\n",
       "      <td>0</td>\n",
       "      <td>36183</td>\n",
       "      <td>12</td>\n",
       "      <td>1</td>\n",
       "      <td>3</td>\n",
       "      <td>245</td>\n",
       "      <td>2017-11-06 23:32:20</td>\n",
       "      <td>NaN</td>\n",
       "      <td>0</td>\n",
       "      <td>0</td>\n",
       "      <td>23</td>\n",
       "    </tr>\n",
       "    <tr>\n",
       "      <th>1</th>\n",
       "      <td>1</td>\n",
       "      <td>77792</td>\n",
       "      <td>15</td>\n",
       "      <td>1</td>\n",
       "      <td>17</td>\n",
       "      <td>265</td>\n",
       "      <td>2017-11-06 16:22:50</td>\n",
       "      <td>NaN</td>\n",
       "      <td>0</td>\n",
       "      <td>0</td>\n",
       "      <td>16</td>\n",
       "    </tr>\n",
       "    <tr>\n",
       "      <th>2</th>\n",
       "      <td>2</td>\n",
       "      <td>147957</td>\n",
       "      <td>9</td>\n",
       "      <td>1</td>\n",
       "      <td>19</td>\n",
       "      <td>232</td>\n",
       "      <td>2017-11-06 22:22:34</td>\n",
       "      <td>NaN</td>\n",
       "      <td>0</td>\n",
       "      <td>0</td>\n",
       "      <td>22</td>\n",
       "    </tr>\n",
       "    <tr>\n",
       "      <th>3</th>\n",
       "      <td>3</td>\n",
       "      <td>28082</td>\n",
       "      <td>15</td>\n",
       "      <td>1</td>\n",
       "      <td>19</td>\n",
       "      <td>245</td>\n",
       "      <td>2017-11-06 21:00:04</td>\n",
       "      <td>NaN</td>\n",
       "      <td>0</td>\n",
       "      <td>0</td>\n",
       "      <td>21</td>\n",
       "    </tr>\n",
       "    <tr>\n",
       "      <th>4</th>\n",
       "      <td>4</td>\n",
       "      <td>105128</td>\n",
       "      <td>12</td>\n",
       "      <td>1</td>\n",
       "      <td>13</td>\n",
       "      <td>245</td>\n",
       "      <td>2017-11-06 23:04:56</td>\n",
       "      <td>NaN</td>\n",
       "      <td>0</td>\n",
       "      <td>0</td>\n",
       "      <td>23</td>\n",
       "    </tr>\n",
       "  </tbody>\n",
       "</table>\n",
       "</div>"
      ],
      "text/plain": [
       "   Unnamed: 0      ip  app  device  os  channel           click_time  \\\n",
       "0           0   36183   12       1   3      245  2017-11-06 23:32:20   \n",
       "1           1   77792   15       1  17      265  2017-11-06 16:22:50   \n",
       "2           2  147957    9       1  19      232  2017-11-06 22:22:34   \n",
       "3           3   28082   15       1  19      245  2017-11-06 21:00:04   \n",
       "4           4  105128   12       1  13      245  2017-11-06 23:04:56   \n",
       "\n",
       "  attributed_time  is_attributed  day_clicked  hour_clicked  \n",
       "0             NaN              0            0            23  \n",
       "1             NaN              0            0            16  \n",
       "2             NaN              0            0            22  \n",
       "3             NaN              0            0            21  \n",
       "4             NaN              0            0            23  "
      ]
     },
     "execution_count": 3,
     "metadata": {},
     "output_type": "execute_result"
    }
   ],
   "source": [
    "## Isolating day of week and hour of day to see if they're good indicators of downloads\n",
    "d = pd.to_datetime(raw_df['click_time'])\n",
    "day = d.dt.dayofweek\n",
    "hour = d.dt.hour\n",
    "raw_df['day_clicked'] = day\n",
    "raw_df['hour_clicked'] = hour\n",
    "print(raw_df.shape)\n",
    "raw_df.head()"
   ]
  },
  {
   "attachments": {},
   "cell_type": "markdown",
   "metadata": {},
   "source": [
    "### Splitting data"
   ]
  },
  {
   "cell_type": "code",
   "execution_count": 4,
   "metadata": {},
   "outputs": [
    {
     "name": "stdout",
     "output_type": "stream",
     "text": [
      "(942229, 6)\n"
     ]
    },
    {
     "data": {
      "text/html": [
       "<div>\n",
       "<style scoped>\n",
       "    .dataframe tbody tr th:only-of-type {\n",
       "        vertical-align: middle;\n",
       "    }\n",
       "\n",
       "    .dataframe tbody tr th {\n",
       "        vertical-align: top;\n",
       "    }\n",
       "\n",
       "    .dataframe thead th {\n",
       "        text-align: right;\n",
       "    }\n",
       "</style>\n",
       "<table border=\"1\" class=\"dataframe\">\n",
       "  <thead>\n",
       "    <tr style=\"text-align: right;\">\n",
       "      <th></th>\n",
       "      <th>app</th>\n",
       "      <th>device</th>\n",
       "      <th>os</th>\n",
       "      <th>channel</th>\n",
       "      <th>day_clicked</th>\n",
       "      <th>hour_clicked</th>\n",
       "    </tr>\n",
       "  </thead>\n",
       "  <tbody>\n",
       "    <tr>\n",
       "      <th>0</th>\n",
       "      <td>12</td>\n",
       "      <td>1</td>\n",
       "      <td>3</td>\n",
       "      <td>245</td>\n",
       "      <td>0</td>\n",
       "      <td>23</td>\n",
       "    </tr>\n",
       "    <tr>\n",
       "      <th>1</th>\n",
       "      <td>15</td>\n",
       "      <td>1</td>\n",
       "      <td>17</td>\n",
       "      <td>265</td>\n",
       "      <td>0</td>\n",
       "      <td>16</td>\n",
       "    </tr>\n",
       "    <tr>\n",
       "      <th>2</th>\n",
       "      <td>9</td>\n",
       "      <td>1</td>\n",
       "      <td>19</td>\n",
       "      <td>232</td>\n",
       "      <td>0</td>\n",
       "      <td>22</td>\n",
       "    </tr>\n",
       "    <tr>\n",
       "      <th>3</th>\n",
       "      <td>15</td>\n",
       "      <td>1</td>\n",
       "      <td>19</td>\n",
       "      <td>245</td>\n",
       "      <td>0</td>\n",
       "      <td>21</td>\n",
       "    </tr>\n",
       "    <tr>\n",
       "      <th>4</th>\n",
       "      <td>12</td>\n",
       "      <td>1</td>\n",
       "      <td>13</td>\n",
       "      <td>245</td>\n",
       "      <td>0</td>\n",
       "      <td>23</td>\n",
       "    </tr>\n",
       "  </tbody>\n",
       "</table>\n",
       "</div>"
      ],
      "text/plain": [
       "   app  device  os  channel  day_clicked  hour_clicked\n",
       "0   12       1   3      245            0            23\n",
       "1   15       1  17      265            0            16\n",
       "2    9       1  19      232            0            22\n",
       "3   15       1  19      245            0            21\n",
       "4   12       1  13      245            0            23"
      ]
     },
     "execution_count": 4,
     "metadata": {},
     "output_type": "execute_result"
    }
   ],
   "source": [
    "## Selecting features\n",
    "features = raw_df.iloc[:, 2:6]\n",
    "features = features.join(raw_df.iloc[:, 9:])\n",
    "print(features.shape)\n",
    "features.head()"
   ]
  },
  {
   "cell_type": "code",
   "execution_count": 5,
   "metadata": {},
   "outputs": [
    {
     "name": "stdout",
     "output_type": "stream",
     "text": [
      "(942229,)\n"
     ]
    },
    {
     "data": {
      "text/plain": [
       "0    0\n",
       "1    0\n",
       "2    0\n",
       "3    0\n",
       "4    0\n",
       "Name: is_attributed, dtype: uint8"
      ]
     },
     "execution_count": 5,
     "metadata": {},
     "output_type": "execute_result"
    }
   ],
   "source": [
    "## Selecting labels\n",
    "labels = raw_df.iloc[:, 8]\n",
    "print(labels.shape)\n",
    "labels.head()"
   ]
  },
  {
   "cell_type": "code",
   "execution_count": 6,
   "metadata": {},
   "outputs": [
    {
     "name": "stdout",
     "output_type": "stream",
     "text": [
      "(932806, 6) (932806,)\n",
      "(9423, 6) (9423,)\n"
     ]
    }
   ],
   "source": [
    "x_train, x_test, y_train, y_test = train_test_split(features, labels, test_size=0.01, random_state=42)\n",
    "print(x_train.shape, y_train.shape)\n",
    "print(x_test.shape, y_test.shape)"
   ]
  },
  {
   "attachments": {},
   "cell_type": "markdown",
   "metadata": {},
   "source": [
    "## Creating NN Model"
   ]
  },
  {
   "cell_type": "code",
   "execution_count": 7,
   "metadata": {},
   "outputs": [
    {
     "name": "stderr",
     "output_type": "stream",
     "text": [
      "2023-04-21 22:00:16.160494: I tensorflow/core/platform/cpu_feature_guard.cc:193] This TensorFlow binary is optimized with oneAPI Deep Neural Network Library (oneDNN) to use the following CPU instructions in performance-critical operations:  AVX2 FMA\n",
      "To enable them in other operations, rebuild TensorFlow with the appropriate compiler flags.\n"
     ]
    }
   ],
   "source": [
    "## Building base model without categorical embeddings\n",
    "input_layer = keras.Input(shape=(6,), name=\"input\")\n",
    "core_layer = layers.Dense(units=320, activation=\"relu\", name=\"Dense-1\")(input_layer)\n",
    "core_layer = layers.Dense(units=160, activation=\"relu\", name=\"Dense-2\")(core_layer)\n",
    "core_layer = layers.Dense(units=80, activation=\"relu\", name=\"Dense-3\")(core_layer)\n",
    "core_layer = layers.Dense(units=40, activation=\"relu\", name=\"Dense-4\")(core_layer)\n",
    "output_layer = layers.Dense(1, activation=\"sigmoid\")(core_layer)\n",
    "\n",
    "model = keras.Model(inputs=input_layer, outputs=output_layer)\n"
   ]
  },
  {
   "cell_type": "code",
   "execution_count": 8,
   "metadata": {},
   "outputs": [
    {
     "name": "stdout",
     "output_type": "stream",
     "text": [
      "Model: \"model\"\n",
      "_________________________________________________________________\n",
      " Layer (type)                Output Shape              Param #   \n",
      "=================================================================\n",
      " input (InputLayer)          [(None, 6)]               0         \n",
      "                                                                 \n",
      " Dense-1 (Dense)             (None, 320)               2240      \n",
      "                                                                 \n",
      " Dense-2 (Dense)             (None, 160)               51360     \n",
      "                                                                 \n",
      " Dense-3 (Dense)             (None, 80)                12880     \n",
      "                                                                 \n",
      " Dense-4 (Dense)             (None, 40)                3240      \n",
      "                                                                 \n",
      " dense (Dense)               (None, 1)                 41        \n",
      "                                                                 \n",
      "=================================================================\n",
      "Total params: 69,761\n",
      "Trainable params: 69,761\n",
      "Non-trainable params: 0\n",
      "_________________________________________________________________\n"
     ]
    }
   ],
   "source": [
    "model.summary()"
   ]
  },
  {
   "cell_type": "code",
   "execution_count": 9,
   "metadata": {},
   "outputs": [
    {
     "name": "stdout",
     "output_type": "stream",
     "text": [
      "Epoch 1/10\n",
      "3306/3306 [==============================] - 7s 2ms/step - loss: 0.3983 - acc: 0.8402 - val_loss: 0.3061 - val_acc: 0.8872\n",
      "Epoch 2/10\n",
      "3306/3306 [==============================] - 6s 2ms/step - loss: 0.2919 - acc: 0.8904 - val_loss: 0.2730 - val_acc: 0.8970\n",
      "Epoch 3/10\n",
      "3306/3306 [==============================] - 6s 2ms/step - loss: 0.2730 - acc: 0.8978 - val_loss: 0.2726 - val_acc: 0.8981\n",
      "Epoch 4/10\n",
      "3306/3306 [==============================] - 6s 2ms/step - loss: 0.2640 - acc: 0.9007 - val_loss: 0.2601 - val_acc: 0.9018\n",
      "Epoch 5/10\n",
      "3306/3306 [==============================] - 6s 2ms/step - loss: 0.2594 - acc: 0.9021 - val_loss: 0.2573 - val_acc: 0.9031\n",
      "Epoch 6/10\n",
      "3306/3306 [==============================] - 6s 2ms/step - loss: 0.2549 - acc: 0.9033 - val_loss: 0.2500 - val_acc: 0.9057\n",
      "Epoch 7/10\n",
      "3306/3306 [==============================] - 6s 2ms/step - loss: 0.2522 - acc: 0.9040 - val_loss: 0.2508 - val_acc: 0.9048\n",
      "Epoch 8/10\n",
      "3306/3306 [==============================] - 6s 2ms/step - loss: 0.2500 - acc: 0.9046 - val_loss: 0.2461 - val_acc: 0.9059\n",
      "Epoch 9/10\n",
      "3306/3306 [==============================] - 6s 2ms/step - loss: 0.2480 - acc: 0.9053 - val_loss: 0.2467 - val_acc: 0.9058\n",
      "Epoch 10/10\n",
      "3306/3306 [==============================] - 7s 2ms/step - loss: 0.2466 - acc: 0.9057 - val_loss: 0.2501 - val_acc: 0.9056\n"
     ]
    }
   ],
   "source": [
    "## Training the model\n",
    "callback = tf.keras.callbacks.EarlyStopping(monitor='acc', patience=2)\n",
    "model.compile(optimizer=keras.optimizers.Adam(learning_rate=0.001), loss=\"binary_crossentropy\", metrics=['acc'])\n",
    "history = model.fit(x_train, y_train, batch_size=254, epochs=10, validation_split=0.1, callbacks=callback)"
   ]
  },
  {
   "cell_type": "code",
   "execution_count": 10,
   "metadata": {},
   "outputs": [
    {
     "name": "stdout",
     "output_type": "stream",
     "text": [
      "295/295 [==============================] - 0s 934us/step - loss: 0.2542 - acc: 0.9048\n"
     ]
    },
    {
     "data": {
      "text/plain": [
       "[0.25421372056007385, 0.9048073887825012]"
      ]
     },
     "execution_count": 10,
     "metadata": {},
     "output_type": "execute_result"
    }
   ],
   "source": [
    "## Evaluating model\n",
    "\n",
    "model.evaluate(x_test, y_test)\n"
   ]
  },
  {
   "attachments": {},
   "cell_type": "markdown",
   "metadata": {},
   "source": [
    "### Embedded NN Model\n",
    "Creating model with embedding layers for the categorial features. Guidance based on information found in following resources: \n",
    "- https://colab.research.google.com/github/keras-team/keras-io/blob/master/examples/structured_data/ipynb/structured_data_classification_from_scratch.ipynb#scrollTo=yC-2OqU5vo6D\n",
    "- https://medium.com/@satnalikamayank12/on-learning-embeddings-for-categorical-data-using-keras-165ff2773fc9\n",
    "- https://github.com/knathanieltucker/deep-learning-building-blocks/blob/master/notebooks/Categorical%20Data.ipynb"
   ]
  },
  {
   "attachments": {},
   "cell_type": "markdown",
   "metadata": {},
   "source": [
    "#### Creating TFdatasets"
   ]
  },
  {
   "cell_type": "code",
   "execution_count": 11,
   "metadata": {},
   "outputs": [
    {
     "data": {
      "text/html": [
       "<div>\n",
       "<style scoped>\n",
       "    .dataframe tbody tr th:only-of-type {\n",
       "        vertical-align: middle;\n",
       "    }\n",
       "\n",
       "    .dataframe tbody tr th {\n",
       "        vertical-align: top;\n",
       "    }\n",
       "\n",
       "    .dataframe thead th {\n",
       "        text-align: right;\n",
       "    }\n",
       "</style>\n",
       "<table border=\"1\" class=\"dataframe\">\n",
       "  <thead>\n",
       "    <tr style=\"text-align: right;\">\n",
       "      <th></th>\n",
       "      <th>index</th>\n",
       "      <th>cardinality</th>\n",
       "    </tr>\n",
       "  </thead>\n",
       "  <tbody>\n",
       "    <tr>\n",
       "      <th>0</th>\n",
       "      <td>app</td>\n",
       "      <td>337</td>\n",
       "    </tr>\n",
       "    <tr>\n",
       "      <th>1</th>\n",
       "      <td>device</td>\n",
       "      <td>1890</td>\n",
       "    </tr>\n",
       "    <tr>\n",
       "      <th>2</th>\n",
       "      <td>os</td>\n",
       "      <td>191</td>\n",
       "    </tr>\n",
       "    <tr>\n",
       "      <th>3</th>\n",
       "      <td>channel</td>\n",
       "      <td>181</td>\n",
       "    </tr>\n",
       "    <tr>\n",
       "      <th>4</th>\n",
       "      <td>day_clicked</td>\n",
       "      <td>4</td>\n",
       "    </tr>\n",
       "    <tr>\n",
       "      <th>5</th>\n",
       "      <td>hour_clicked</td>\n",
       "      <td>24</td>\n",
       "    </tr>\n",
       "  </tbody>\n",
       "</table>\n",
       "</div>"
      ],
      "text/plain": [
       "          index  cardinality\n",
       "0           app          337\n",
       "1        device         1890\n",
       "2            os          191\n",
       "3       channel          181\n",
       "4   day_clicked            4\n",
       "5  hour_clicked           24"
      ]
     },
     "execution_count": 11,
     "metadata": {},
     "output_type": "execute_result"
    }
   ],
   "source": [
    "# Checking cardinality of features\n",
    "features.nunique().reset_index(name='cardinality')\n",
    "\n",
    "# for feature in features.columns:\n",
    "#     print(len(features[feature].unique()))"
   ]
  },
  {
   "cell_type": "code",
   "execution_count": 12,
   "metadata": {},
   "outputs": [
    {
     "data": {
      "text/html": [
       "<div>\n",
       "<style scoped>\n",
       "    .dataframe tbody tr th:only-of-type {\n",
       "        vertical-align: middle;\n",
       "    }\n",
       "\n",
       "    .dataframe tbody tr th {\n",
       "        vertical-align: top;\n",
       "    }\n",
       "\n",
       "    .dataframe thead th {\n",
       "        text-align: right;\n",
       "    }\n",
       "</style>\n",
       "<table border=\"1\" class=\"dataframe\">\n",
       "  <thead>\n",
       "    <tr style=\"text-align: right;\">\n",
       "      <th></th>\n",
       "      <th>app</th>\n",
       "      <th>device</th>\n",
       "      <th>os</th>\n",
       "      <th>channel</th>\n",
       "      <th>day_clicked</th>\n",
       "      <th>hour_clicked</th>\n",
       "      <th>is_attributed</th>\n",
       "    </tr>\n",
       "  </thead>\n",
       "  <tbody>\n",
       "    <tr>\n",
       "      <th>0</th>\n",
       "      <td>12</td>\n",
       "      <td>1</td>\n",
       "      <td>3</td>\n",
       "      <td>245</td>\n",
       "      <td>0</td>\n",
       "      <td>23</td>\n",
       "      <td>0</td>\n",
       "    </tr>\n",
       "    <tr>\n",
       "      <th>1</th>\n",
       "      <td>15</td>\n",
       "      <td>1</td>\n",
       "      <td>17</td>\n",
       "      <td>265</td>\n",
       "      <td>0</td>\n",
       "      <td>16</td>\n",
       "      <td>0</td>\n",
       "    </tr>\n",
       "    <tr>\n",
       "      <th>2</th>\n",
       "      <td>9</td>\n",
       "      <td>1</td>\n",
       "      <td>19</td>\n",
       "      <td>232</td>\n",
       "      <td>0</td>\n",
       "      <td>22</td>\n",
       "      <td>0</td>\n",
       "    </tr>\n",
       "    <tr>\n",
       "      <th>3</th>\n",
       "      <td>15</td>\n",
       "      <td>1</td>\n",
       "      <td>19</td>\n",
       "      <td>245</td>\n",
       "      <td>0</td>\n",
       "      <td>21</td>\n",
       "      <td>0</td>\n",
       "    </tr>\n",
       "    <tr>\n",
       "      <th>4</th>\n",
       "      <td>12</td>\n",
       "      <td>1</td>\n",
       "      <td>13</td>\n",
       "      <td>245</td>\n",
       "      <td>0</td>\n",
       "      <td>23</td>\n",
       "      <td>0</td>\n",
       "    </tr>\n",
       "    <tr>\n",
       "      <th>...</th>\n",
       "      <td>...</td>\n",
       "      <td>...</td>\n",
       "      <td>...</td>\n",
       "      <td>...</td>\n",
       "      <td>...</td>\n",
       "      <td>...</td>\n",
       "      <td>...</td>\n",
       "    </tr>\n",
       "    <tr>\n",
       "      <th>942224</th>\n",
       "      <td>10</td>\n",
       "      <td>1</td>\n",
       "      <td>27</td>\n",
       "      <td>113</td>\n",
       "      <td>3</td>\n",
       "      <td>15</td>\n",
       "      <td>1</td>\n",
       "    </tr>\n",
       "    <tr>\n",
       "      <th>942225</th>\n",
       "      <td>5</td>\n",
       "      <td>1</td>\n",
       "      <td>47</td>\n",
       "      <td>113</td>\n",
       "      <td>3</td>\n",
       "      <td>15</td>\n",
       "      <td>1</td>\n",
       "    </tr>\n",
       "    <tr>\n",
       "      <th>942226</th>\n",
       "      <td>45</td>\n",
       "      <td>1</td>\n",
       "      <td>32</td>\n",
       "      <td>419</td>\n",
       "      <td>3</td>\n",
       "      <td>15</td>\n",
       "      <td>1</td>\n",
       "    </tr>\n",
       "    <tr>\n",
       "      <th>942227</th>\n",
       "      <td>10</td>\n",
       "      <td>1</td>\n",
       "      <td>11</td>\n",
       "      <td>113</td>\n",
       "      <td>3</td>\n",
       "      <td>15</td>\n",
       "      <td>1</td>\n",
       "    </tr>\n",
       "    <tr>\n",
       "      <th>942228</th>\n",
       "      <td>9</td>\n",
       "      <td>1</td>\n",
       "      <td>19</td>\n",
       "      <td>127</td>\n",
       "      <td>3</td>\n",
       "      <td>15</td>\n",
       "      <td>1</td>\n",
       "    </tr>\n",
       "  </tbody>\n",
       "</table>\n",
       "<p>942229 rows × 7 columns</p>\n",
       "</div>"
      ],
      "text/plain": [
       "        app  device  os  channel  day_clicked  hour_clicked  is_attributed\n",
       "0        12       1   3      245            0            23              0\n",
       "1        15       1  17      265            0            16              0\n",
       "2         9       1  19      232            0            22              0\n",
       "3        15       1  19      245            0            21              0\n",
       "4        12       1  13      245            0            23              0\n",
       "...     ...     ...  ..      ...          ...           ...            ...\n",
       "942224   10       1  27      113            3            15              1\n",
       "942225    5       1  47      113            3            15              1\n",
       "942226   45       1  32      419            3            15              1\n",
       "942227   10       1  11      113            3            15              1\n",
       "942228    9       1  19      127            3            15              1\n",
       "\n",
       "[942229 rows x 7 columns]"
      ]
     },
     "execution_count": 12,
     "metadata": {},
     "output_type": "execute_result"
    }
   ],
   "source": [
    "final_df = features.join(labels)\n",
    "final_df"
   ]
  },
  {
   "cell_type": "code",
   "execution_count": 13,
   "metadata": {},
   "outputs": [],
   "source": [
    "## Creatting train/dev/test sets\n",
    "\n",
    "val_df = final_df.sample(frac=0.01, random_state=42)\n",
    "# print(val_df.shape)\n",
    "train_df = final_df.drop(val_df.index)\n",
    "# print(train_df.shape)\n",
    "test_df = train_df.sample(frac=0.01, random_state=42)\n",
    "# print(test_df.shape)\n",
    "train_df = train_df.drop(test_df.index)\n",
    "# print(train_df.shape)\n"
   ]
  },
  {
   "cell_type": "code",
   "execution_count": 14,
   "metadata": {},
   "outputs": [],
   "source": [
    "## turning df into ds\n",
    "def dataframe_to_dataset(df):\n",
    "    dataframe = df.copy()\n",
    "    labels = dataframe.pop('is_attributed')\n",
    "    ds = tf.data.Dataset.from_tensor_slices((dict(dataframe), labels))\n",
    "    ds = ds.shuffle(buffer_size=len(dataframe))\n",
    "    return ds\n",
    "\n",
    "\n",
    "train_ds = dataframe_to_dataset(train_df)\n",
    "val_ds = dataframe_to_dataset(val_df)\n",
    "test_ds = dataframe_to_dataset(test_df)"
   ]
  },
  {
   "cell_type": "code",
   "execution_count": 15,
   "metadata": {},
   "outputs": [
    {
     "name": "stdout",
     "output_type": "stream",
     "text": [
      "Inputs:  {'app': <tf.Tensor: shape=(), dtype=uint16, numpy=19>, 'device': <tf.Tensor: shape=(), dtype=uint16, numpy=0>, 'os': <tf.Tensor: shape=(), dtype=uint16, numpy=748>, 'channel': <tf.Tensor: shape=(), dtype=uint16, numpy=347>, 'day_clicked': <tf.Tensor: shape=(), dtype=int64, numpy=2>, 'hour_clicked': <tf.Tensor: shape=(), dtype=int64, numpy=11>}\n",
      "Targets:  tf.Tensor(0, shape=(), dtype=uint8)\n"
     ]
    }
   ],
   "source": [
    "for x, y in train_ds.take(1):\n",
    "    print(\"Inputs: \", x)\n",
    "    print(\"Targets: \", y)"
   ]
  },
  {
   "cell_type": "code",
   "execution_count": 16,
   "metadata": {},
   "outputs": [],
   "source": [
    "## creating batches from ds\n",
    "train_ds = train_ds.batch(32)\n",
    "val_ds = val_ds.batch(32)\n",
    "test_ds = test_ds.batch(32)\n"
   ]
  },
  {
   "attachments": {},
   "cell_type": "markdown",
   "metadata": {},
   "source": [
    "#### Encoding features and building model"
   ]
  },
  {
   "cell_type": "code",
   "execution_count": 17,
   "metadata": {},
   "outputs": [],
   "source": [
    "# Function  to one-hot encode integer categorical features\n",
    "\n",
    "def encode_categorical_feature(feature, name, dataset):\n",
    "    lookup_class = IntegerLookup\n",
    "    # Create a lookup layer which will turn strings into integer indices\n",
    "    lookup = lookup_class(output_mode=\"binary\")\n",
    "\n",
    "    # Prepare a Dataset that only yields our feature\n",
    "    feature_ds = dataset.map(lambda x, y: x[name])\n",
    "    feature_ds = feature_ds.map(lambda x: tf.expand_dims(x, -1))\n",
    "\n",
    "    # Learn the set of possible string values and assign them a fixed integer index\n",
    "    lookup.adapt(feature_ds)\n",
    "\n",
    "    # Turn the string input into integer indices\n",
    "    encoded_feature = lookup(feature)\n",
    "    return encoded_feature\n",
    "\n"
   ]
  },
  {
   "cell_type": "code",
   "execution_count": 18,
   "metadata": {},
   "outputs": [],
   "source": [
    "# Creating input layers\n",
    "app = keras.Input(shape=(1,), name=\"app\", dtype=\"int64\")\n",
    "device = keras.Input(shape=(1,), name=\"device\", dtype=\"int64\")\n",
    "os = keras.Input(shape=(1,), name=\"os\", dtype=\"int64\")\n",
    "channel = keras.Input(shape=(1,), name=\"channel\", dtype=\"int64\")\n",
    "day_clicked = keras.Input(shape=(1,), name=\"day_clicked\", dtype=\"int64\")\n",
    "hour_clicked = keras.Input(shape=(1,), name=\"hour_clicked\", dtype=\"int64\")\n",
    "\n",
    "all_inputs = [\n",
    "    app,\n",
    "    device,\n",
    "    os,\n",
    "    channel,\n",
    "    day_clicked,\n",
    "    hour_clicked\n",
    "\n",
    "]"
   ]
  },
  {
   "cell_type": "code",
   "execution_count": 19,
   "metadata": {},
   "outputs": [
    {
     "name": "stdout",
     "output_type": "stream",
     "text": [
      "WARNING:tensorflow:From /opt/anaconda3/envs/MLenv/lib/python3.9/site-packages/tensorflow/python/autograph/pyct/static_analysis/liveness.py:83: Analyzer.lamba_check (from tensorflow.python.autograph.pyct.static_analysis.liveness) is deprecated and will be removed after 2023-09-23.\n",
      "Instructions for updating:\n",
      "Lambda fuctions will be no more assumed to be used in the statement where they are used, or at least in the same block. https://github.com/tensorflow/tensorflow/issues/56089\n"
     ]
    }
   ],
   "source": [
    "# Categorical features encoded as integers\n",
    "app_encoded = encode_categorical_feature(app, 'app', train_ds)\n",
    "device_encoded = encode_categorical_feature(device, 'device', train_ds)\n",
    "os_encoded = encode_categorical_feature(os, 'os', train_ds)\n",
    "channel_encoded = encode_categorical_feature(channel, 'channel', train_ds)\n",
    "day_clicked_encoded = encode_categorical_feature(day_clicked, 'day_clicked', train_ds)\n",
    "hour_clicked_encoded = encode_categorical_feature(hour_clicked, 'hour_clicked', train_ds)\n",
    "\n",
    "all_features = layers.concatenate(\n",
    "    [\n",
    "        app_encoded,\n",
    "        device_encoded,\n",
    "        os_encoded,\n",
    "        channel_encoded,\n",
    "        day_clicked_encoded,\n",
    "        hour_clicked_encoded\n",
    "\n",
    "    ]\n",
    ")"
   ]
  },
  {
   "cell_type": "code",
   "execution_count": 20,
   "metadata": {},
   "outputs": [],
   "source": [
    "x = layers.Dense(320, activation=\"relu\")(all_features)\n",
    "x = layers.Dropout(0.5)(x)\n",
    "output = layers.Dense(1, activation=\"sigmoid\")(x)\n",
    "model = keras.Model(all_inputs, output)\n",
    "model.compile(\"adam\", \"binary_crossentropy\", metrics=[\"accuracy\"])\n",
    "\n"
   ]
  },
  {
   "cell_type": "code",
   "execution_count": 21,
   "metadata": {},
   "outputs": [
    {
     "name": "stdout",
     "output_type": "stream",
     "text": [
      "Epoch 1/5\n",
      "28859/28859 [==============================] - 274s 9ms/step - loss: 0.2184 - acc: 0.9178 - val_loss: 0.2128 - val_acc: 0.9188\n",
      "Epoch 2/5\n",
      "28859/28859 [==============================] - 271s 9ms/step - loss: 0.2121 - acc: 0.9198 - val_loss: 0.2110 - val_acc: 0.9198\n",
      "Epoch 3/5\n",
      "28859/28859 [==============================] - 271s 9ms/step - loss: 0.2113 - acc: 0.9204 - val_loss: 0.2102 - val_acc: 0.9202\n",
      "Epoch 4/5\n",
      "28859/28859 [==============================] - 273s 9ms/step - loss: 0.2109 - acc: 0.9204 - val_loss: 0.2089 - val_acc: 0.9207\n",
      "Epoch 5/5\n",
      "28859/28859 [==============================] - 275s 9ms/step - loss: 0.2106 - acc: 0.9206 - val_loss: 0.2104 - val_acc: 0.9201\n"
     ]
    }
   ],
   "source": [
    "callback = tf.keras.callbacks.EarlyStopping(monitor='acc', patience=2)\n",
    "model.compile(optimizer=keras.optimizers.Adam(learning_rate=0.001), loss=\"binary_crossentropy\", metrics=['acc'])\n",
    "history = model.fit(train_ds, epochs=5, validation_data=val_ds, callbacks=callback)\n",
    "\n"
   ]
  },
  {
   "cell_type": "code",
   "execution_count": 22,
   "metadata": {},
   "outputs": [
    {
     "name": "stdout",
     "output_type": "stream",
     "text": [
      "292/292 [==============================] - 1s 2ms/step - loss: 0.2142 - acc: 0.9196\n"
     ]
    },
    {
     "data": {
      "text/plain": [
       "[0.2142351120710373, 0.9195969104766846]"
      ]
     },
     "execution_count": 22,
     "metadata": {},
     "output_type": "execute_result"
    }
   ],
   "source": [
    "model.evaluate(test_ds)"
   ]
  },
  {
   "attachments": {},
   "cell_type": "markdown",
   "metadata": {},
   "source": [
    "## Hypertuning Parameters"
   ]
  },
  {
   "cell_type": "code",
   "execution_count": 23,
   "metadata": {},
   "outputs": [],
   "source": [
    "# Adding layers and batch normalization\n",
    "x2 = layers.Dropout(0.25)(all_features)\n",
    "x2 = layers.Dense(320, activation='relu')(x2)\n",
    "\n",
    "x2 = layers.BatchNormalization()(x2)\n",
    "x2 = layers.Dropout(0.25)(x2)\n",
    "x2 = layers.Dense(160, activation='relu')(x2)\n",
    "\n",
    "x2 = layers.BatchNormalization()(x2)\n",
    "x2 = layers.Dropout(0.25)(x2)\n",
    "x2 = layers.Dense(80, activation='relu')(x2)\n",
    "\n",
    "x2 = layers.BatchNormalization()(x2)\n",
    "x2 = layers.Dropout(0.25)(x2)\n",
    "x2 = layers.Dense(10, activation='relu')(x2)\n",
    "\n",
    "x2 = layers.BatchNormalization()(x2)\n",
    "x2 = layers.Dropout(0.25)(x2)\n",
    "output = layers.Dense(1, activation=\"relu\")(x2)\n",
    "\n",
    "four_layer_model = keras.Model(all_inputs, output)\n",
    "# four_layer_model.compile(\"adam\", \"binary_crossentropy\", metrics=[\"accuracy\"])\n"
   ]
  },
  {
   "cell_type": "code",
   "execution_count": 24,
   "metadata": {},
   "outputs": [
    {
     "name": "stdout",
     "output_type": "stream",
     "text": [
      "Epoch 1/5\n",
      "28859/28859 [==============================] - 319s 11ms/step - loss: 0.6164 - acc: 0.8589 - val_loss: 0.3067 - val_acc: 0.9087\n",
      "Epoch 2/5\n",
      "28859/28859 [==============================] - 312s 11ms/step - loss: 0.3613 - acc: 0.8865 - val_loss: 0.2734 - val_acc: 0.9149\n",
      "Epoch 3/5\n",
      "28859/28859 [==============================] - 312s 11ms/step - loss: 0.3472 - acc: 0.8871 - val_loss: 0.2633 - val_acc: 0.9157\n",
      "Epoch 4/5\n",
      "28859/28859 [==============================] - 311s 11ms/step - loss: 0.3439 - acc: 0.8872 - val_loss: 0.2696 - val_acc: 0.9166\n",
      "Epoch 5/5\n",
      "28859/28859 [==============================] - 321s 11ms/step - loss: 0.3429 - acc: 0.8884 - val_loss: 0.3135 - val_acc: 0.9157\n"
     ]
    }
   ],
   "source": [
    "callback = tf.keras.callbacks.EarlyStopping(monitor='acc', patience=2)\n",
    "four_layer_model.compile(optimizer=keras.optimizers.Adam(learning_rate=0.001), loss=\"binary_crossentropy\", metrics=['acc'])\n",
    "history = four_layer_model.fit(train_ds, epochs=5, validation_data=val_ds, callbacks=callback)\n",
    "\n"
   ]
  },
  {
   "cell_type": "code",
   "execution_count": 25,
   "metadata": {},
   "outputs": [
    {
     "name": "stdout",
     "output_type": "stream",
     "text": [
      "292/292 [==============================] - 1s 2ms/step - loss: 0.3127 - acc: 0.9135\n"
     ]
    },
    {
     "data": {
      "text/plain": [
       "[0.31269875168800354, 0.9134863018989563]"
      ]
     },
     "execution_count": 25,
     "metadata": {},
     "output_type": "execute_result"
    }
   ],
   "source": [
    "four_layer_model.evaluate(test_ds)"
   ]
  }
 ],
 "metadata": {
  "kernelspec": {
   "display_name": "MLenv",
   "language": "python",
   "name": "python3"
  },
  "language_info": {
   "codemirror_mode": {
    "name": "ipython",
    "version": 3
   },
   "file_extension": ".py",
   "mimetype": "text/x-python",
   "name": "python",
   "nbconvert_exporter": "python",
   "pygments_lexer": "ipython3",
   "version": "3.9.16"
  },
  "orig_nbformat": 4
 },
 "nbformat": 4,
 "nbformat_minor": 2
}
