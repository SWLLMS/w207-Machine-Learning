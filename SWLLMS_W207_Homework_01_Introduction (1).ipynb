{
  "cells": [
    {
      "cell_type": "markdown",
      "metadata": {
        "id": "rHLcriKWLRe4"
      },
      "source": [
        "# Lab 1"
      ]
    },
    {
      "cell_type": "code",
      "execution_count": 1,
      "metadata": {
        "id": "7X58hOMTUH-w"
      },
      "outputs": [],
      "source": [
        "# Import the libraries we'll use below.\n",
        "import numpy as np\n",
        "import matplotlib.pyplot as plt"
      ]
    },
    {
      "cell_type": "markdown",
      "metadata": {
        "id": "0nNOD-Z7SzAq"
      },
      "source": [
        "## Data as matrices\n",
        "Data usually comes in the form of matrices. The Python Numpy library makes it easy to manipulate matrices efficiently. See the [Numpy Tutorial](https://docs.scipy.org/doc/numpy/user/quickstart.html) for details."
      ]
    },
    {
      "cell_type": "code",
      "execution_count": 2,
      "metadata": {
        "id": "KWlmuAMwTZ3P",
        "colab": {
          "base_uri": "https://localhost:8080/"
        },
        "outputId": "2f095fb5-8b2d-47dc-a1c7-36e274eee438"
      },
      "outputs": [
        {
          "output_type": "stream",
          "name": "stdout",
          "text": [
            "Here is A:\n",
            " [1 2 3]\n",
            "Shape of A: (3,)\n",
            "Here is B:\n",
            " [[ 1  2  3  4]\n",
            " [ 5  6  7  8]\n",
            " [ 9 10 11 12]]\n",
            "Shape of B: (3, 4)\n",
            "Here is C:\n",
            " [[1. 1. 1.]\n",
            " [1. 1. 1.]]\n",
            "Shape of C: (2, 3)\n",
            "Here is D:\n",
            " [[1. 0. 0.]\n",
            " [0. 1. 0.]\n",
            " [0. 0. 1.]]\n",
            "Shape of D (3, 3)\n"
          ]
        }
      ],
      "source": [
        "# Print these to make sure you understand what is being generated.\n",
        "\n",
        "A = np.array([1, 2, 3])\n",
        "# A simple array containing 1 row and 3 columns\n",
        "print('Here is A:\\n', A)\n",
        "print('Shape of A:', A.shape)\n",
        "\n",
        "B = np.arange(1, 13).reshape(3, 4)\n",
        "# An array of of 13 values starting with 1 that contains 3 rows and 4 columns. \n",
        "print('Here is B:\\n', B)\n",
        "print('Shape of B:', B.shape)\n",
        "\n",
        "C = np.ones((2, 3))\n",
        "# creates 2 rows and 3 columns all with the value of 1.\n",
        "print('Here is C:\\n', C)\n",
        "print('Shape of C:', C.shape)\n",
        "\n",
        "D = np.eye(3)\n",
        "# creates 3 rows and 3 columns where a value of 1 in the diagonal and 0 everywhere else.  \n",
        "print('Here is D:\\n', D)\n",
        "print('Shape of D', D.shape)"
      ]
    },
    {
      "cell_type": "markdown",
      "metadata": {
        "id": "T4wvvzKoUIAN"
      },
      "source": [
        "---\n",
        "### Exercise 1: Matrix manipulation (8 points)"
      ]
    },
    {
      "cell_type": "markdown",
      "metadata": {
        "id": "Np1pPysiu5Q_"
      },
      "source": [
        "Perform the following computations using numpy functions and print the results. Note that the `*` operator implies matrix multiplication -- make sure the dimensions align!\n",
        "1. 2A + 1\n",
        "2. Sum the rows of B\n",
        "3. Sum the columns of B\n",
        "4. Number of elements of B greater than 5\n",
        "5. C + C\n",
        "6. A * B\n",
        "7. (B * B) - D"
      ]
    },
    {
      "cell_type": "code",
      "execution_count": 3,
      "metadata": {
        "id": "HJtwrjdO6TbS",
        "colab": {
          "base_uri": "https://localhost:8080/"
        },
        "outputId": "df95389b-7917-4812-90a1-c5bfab7f3691"
      },
      "outputs": [
        {
          "output_type": "stream",
          "name": "stdout",
          "text": [
            "Matrix A after computations:\n",
            " [3 5 7]\n",
            "Sum of each row in B:\n",
            " [10 26 42]\n",
            "Sum of each column in B:\n",
            " [15 18 21 24]\n",
            "Sum of values greater than 5 in B:\n",
            " 7\n",
            "Matrix C after computations:\n",
            " [[2. 2. 2.]\n",
            " [2. 2. 2.]]\n",
            "Matrix AB after computations:\n",
            " [38 44 50 56]\n",
            "part 7:\n",
            "\n",
            "Matrix after computations:\n",
            " [[ 29.  70. 110.]\n",
            " [ 70. 173. 278.]\n",
            " [110. 278. 445.]]\n"
          ]
        }
      ],
      "source": [
        "#1. 2A + 1\n",
        "a = (2*A)+1\n",
        "print('Matrix A after computations:\\n', a)\n",
        "\n",
        "#2. Sum the rows of B\n",
        "br =  B.sum(axis=1)\n",
        "print('Sum of each row in B:\\n', br)\n",
        "\n",
        "#3. Sum the columns of B\n",
        "bc =  B.sum(axis=0)\n",
        "print('Sum of each column in B:\\n', bc)\n",
        "\n",
        "#4. Number of elements of B greater than 5\n",
        "b = B > 5\n",
        "print('Sum of values greater than 5 in B:\\n', b.sum())\n",
        "\n",
        "#5. C + C\n",
        "c = C+C\n",
        "print('Matrix C after computations:\\n', c)\n",
        "\n",
        "#6. A * B \n",
        "ab = A.dot(B)\n",
        "print('Matrix AB after computations:\\n', ab)\n",
        "print('part 7:\\n')\n",
        "\n",
        "#7. (B * B) - D\n",
        "bb = B.dot(B.T)\n",
        "bbd = bb-D\n",
        "print('Matrix after computations:\\n', bbd)"
      ]
    },
    {
      "cell_type": "markdown",
      "metadata": {
        "id": "i0pyC-n8u5Q_"
      },
      "source": [
        "---"
      ]
    },
    {
      "cell_type": "markdown",
      "metadata": {
        "id": "xbCRG2-uUKCT"
      },
      "source": [
        "## Data for Supervised Learning\n",
        "Supervised learning is all about learning to make predictions: given an input $x$ (e.g. home square footage), can we produce an output $\\hat{y}$ (e.g. estimated value) as close to the actual observed output $y$ (e.g. sale price) as possible. Note that the \"hat\" above $y$ is used to denote an estimated or predicted value.\n",
        "\n",
        "Let's start by generating some artificial data. We'll create a vector of inputs, $X$, and a corresponding vector of target outputs $Y$. In general, we'll refer to invidual examples with a lowercase ($x$), and a vector or matrix containing multiple examples with a capital ($X$)."
      ]
    },
    {
      "cell_type": "code",
      "execution_count": 4,
      "metadata": {
        "id": "Ulmn_bFdU87t"
      },
      "outputs": [],
      "source": [
        "def create_1d_data(num_examples=10, w=2, b=1, random_scale=1):\n",
        "  \"\"\"Create X, Y data with a linear relationship with added noise.\n",
        "\n",
        "  Args:\n",
        "    num_examples: number of examples to generate\n",
        "    w: desired slope\n",
        "    b: desired intercept\n",
        "    random_scale: add uniform noise between -random_scale and +random_scale\n",
        "\n",
        "  Returns:\n",
        "    X and Y with shape (num_examples)\n",
        "  \"\"\"\n",
        "  X = np.arange(num_examples)\n",
        "  np.random.seed(4)  # consistent random number generation\n",
        "  deltas = np.random.uniform(low=-random_scale, high=random_scale, size=X.shape)\n",
        "  Y = b + deltas + w * X\n",
        "  return X, Y"
      ]
    },
    {
      "cell_type": "code",
      "execution_count": 5,
      "metadata": {
        "id": "6qJg0IiYVJ8U",
        "colab": {
          "base_uri": "https://localhost:8080/",
          "height": 265
        },
        "outputId": "b2cb37c8-53f9-423c-b481-b80d895a3dfe"
      },
      "outputs": [
        {
          "output_type": "display_data",
          "data": {
            "text/plain": [
              "<Figure size 432x288 with 1 Axes>"
            ],
            "image/png": "[encoded data removed]"
          },
          "metadata": {
            "needs_background": "light"
          }
        }
      ],
      "source": [
        "# Create some artificial data using create_1d_data.\n",
        "X, Y = create_1d_data()\n",
        "plt.scatter(X, Y)\n",
        "plt.show()"
      ]
    },
    {
      "cell_type": "markdown",
      "metadata": {
        "id": "W6coKbXSpXOz"
      },
      "source": [
        "---\n",
        "### Exercise 2: Models for Data (8 points)"
      ]
    },
    {
      "cell_type": "markdown",
      "metadata": {
        "id": "loX0ZYhwu5RB"
      },
      "source": [
        "A model is a function that takes an input $x$ and produces a prediction $\\hat{y}$.\n",
        "\n",
        "Let's consider two possible models for this data:\n",
        "1. $M_1(x) = x+5$ \n",
        "2. $M_2(x) = 2x+1$\n",
        "\n",
        "Compute the predictions of models $M_1$ and $M_2$ for the values in $X$. These predictions should be vectors of the same shape as $Y$. Then plot the prediction lines of these two models overlayed on the \"observed\" data $(X, Y)$. Use [plt.plot()](https://matplotlib.org/api/_as_gen/matplotlib.pyplot.plot.html) to draw the lines."
      ]
    },
    {
      "cell_type": "code",
      "execution_count": 9,
      "metadata": {
        "id": "AHIY5kNXUIAP",
        "colab": {
          "base_uri": "https://localhost:8080/",
          "height": 336
        },
        "outputId": "ab8a0484-45e0-438f-dfba-e7610760bf83"
      },
      "outputs": [
        {
          "output_type": "stream",
          "name": "stdout",
          "text": [
            "Model 1 (Green Line):\n",
            " [ 5  6  7  8  9 10 11 12 13 14]\n",
            "Model 2 (Orange Line):\n",
            " [ 1  3  5  7  9 11 13 15 17 19]\n"
          ]
        },
        {
          "output_type": "display_data",
          "data": {
            "text/plain": [
              "<Figure size 432x288 with 1 Axes>"
            ],
            "image/png": "[encoded data removed]"
          },
          "metadata": {
            "needs_background": "light"
          }
        }
      ],
      "source": [
        "# Model One\n",
        "M1 = X + 5\n",
        "print('Model 1 (Green Line):\\n', M1)\n",
        "\n",
        "# Model Two\n",
        "M2 = (2*X)+1\n",
        "print('Model 2 (Orange Line):\\n', M2)\n",
        "\n",
        "plt.scatter(X, Y)\n",
        "plt.plot(M1, color=\"green\")\n",
        "plt.plot(M2, color=\"orange\")\n",
        "plt.legend([\"M1\", \"M2\", \"Labeled Data\"], loc =\"upper left\")\n",
        "plt.show()"
      ]
    },
    {
      "cell_type": "markdown",
      "metadata": {
        "id": "43UgwKlPu5RC"
      },
      "source": [
        "---"
      ]
    },
    {
      "cell_type": "markdown",
      "metadata": {
        "id": "NH-0soZiWx9x"
      },
      "source": [
        "## Evaluation Metrics\n",
        "\n",
        "How good are our models? Intuitively, the better the model, the more closely it fits the data we have. That is, for each $x$, we'll compare $y$, the true value, with $\\hat{y}$, the predicted value. This comparison is often called the *loss* or the *error*. One common such comparison is *squared error*: $(y-\\hat{y})^2$. Averaging over all our data points, we get the *mean squared error*:\n",
        "\n",
        "\\begin{equation}\n",
        "\\textit{MSE} = \\frac{1}{|Y|} \\sum_{y_i \\in Y}(y_i - \\hat{y}_i)^2\n",
        "\\end{equation}"
      ]
    },
    {
      "cell_type": "markdown",
      "metadata": {
        "id": "_AyY2DpxYLI0"
      },
      "source": [
        "---\n",
        "### Exercise 3: Computing MSE (8 points)"
      ]
    },
    {
      "cell_type": "markdown",
      "metadata": {
        "id": "A2n-hNVDu5RC"
      },
      "source": [
        "Write a function for computing the MSE metric and use it to compute the MSE for the two models above, $M_1$ and $M_2$."
      ]
    },
    {
      "cell_type": "code",
      "execution_count": 31,
      "metadata": {
        "id": "uCeAfI5mW9sg"
      },
      "outputs": [],
      "source": [
        "def MSE(true_values, predicted_values):\n",
        "  \"\"\"Return the MSE between true_values and predicted values.\"\"\"\n",
        "  mse = np.square(np.subtract(true_values, predicted_values)).mean()\n",
        "  return mse"
      ]
    },
    {
      "cell_type": "code",
      "execution_count": 32,
      "metadata": {
        "id": "uF-x9DI2ZOKq",
        "colab": {
          "base_uri": "https://localhost:8080/"
        },
        "outputId": "3309b562-0af4-48f4-8210-4123790894dd"
      },
      "outputs": [
        {
          "output_type": "stream",
          "name": "stdout",
          "text": [
            "MSE for M1: 6.839502909434264\n",
            "MSE for M2: 0.45821672338761366\n"
          ]
        }
      ],
      "source": [
        "print ('MSE for M1:', MSE(Y, M1))\n",
        "print ('MSE for M2:', MSE(Y, M2))"
      ]
    },
    {
      "cell_type": "markdown",
      "metadata": {
        "id": "rVYwt2x1u5RD"
      },
      "source": [
        "---"
      ]
    },
    {
      "cell_type": "markdown",
      "metadata": {
        "id": "eDiy3OZwZlwj"
      },
      "source": [
        "## Generalization\n",
        "\n",
        "Our data $(X, Y)$ represents just a sample of all possible input-output pairs we might care about. A model will be useful to the extent we can apply it to new inputs. Consider the more complex model below, which appears to produce a much smaller mean squared error."
      ]
    },
    {
      "cell_type": "code",
      "execution_count": 36,
      "metadata": {
        "id": "ns1siZ9DZvSY",
        "colab": {
          "base_uri": "https://localhost:8080/",
          "height": 283
        },
        "outputId": "fa51ce56-42e4-4489-9007-c68ddb6b94b4"
      },
      "outputs": [
        {
          "output_type": "stream",
          "name": "stdout",
          "text": [
            "MSE for M3: 0.10941956925529832\n"
          ]
        },
        {
          "output_type": "display_data",
          "data": {
            "text/plain": [
              "<Figure size 432x288 with 1 Axes>"
            ],
            "image/png": "[encoded data removed]"
          },
          "metadata": {
            "needs_background": "light"
          }
        }
      ],
      "source": [
        "# Fit an 8-th degree polynomial to (X, Y). See np.polyfit for details.\n",
        "polynomial_model_coefficients = np.polyfit(X, Y, deg=8)\n",
        "polynomial_model = np.poly1d(polynomial_model_coefficients)\n",
        "M3 = polynomial_model(X)\n",
        "fig = plt.scatter(X, Y)\n",
        "plt.plot(X, M3, '-k')\n",
        "print ('MSE for M3:', MSE(Y, M3))"
      ]
    },
    {
      "cell_type": "markdown",
      "metadata": {
        "id": "M2m9YmLMZ1EV"
      },
      "source": [
        "---\n",
        "### Exercise 4: Generalization (8 points)"
      ]
    },
    {
      "cell_type": "markdown",
      "metadata": {
        "id": "NzFbh6-pu5RE"
      },
      "source": [
        "Explain whether you expect $M_3$ to be better than $M_2$ at predicting the labels for new unseen inputs."
      ]
    },
    {
      "cell_type": "markdown",
      "metadata": {
        "id": "h0Zpx79_aQEC"
      },
      "source": [
        "*Writen answer:* While M2 is a good linear model, it has a slightly higher mean squared error as compared to M3 (a polyinomal model). I would expect M2 to be better at predicting the label for new unseen inputs as it more general and the relationship of the data looks linear. M3 does not appear to overfit across the true labels and does have a smaller MSE, but once more data is provided I am not sure it would be better than the more general M2. Even though M2 has a larger loss/error from the true labels based on the calculated MSE I think it would be better at generalizing predicitions closer to the true value labels. "
      ]
    },
    {
      "cell_type": "markdown",
      "metadata": {
        "id": "j9EH9D7Faf9n"
      },
      "source": [
        "---"
      ]
    },
    {
      "cell_type": "markdown",
      "metadata": {
        "id": "6hIdZHngdrET"
      },
      "source": [
        "## Review\n",
        "\n",
        "* In **Supervised Machine Learning**, we must start with data in the form $(X,Y)$ where $X$ are the inputs and $Y$ are the output labels.\n",
        "* A **model** is a function that maps an input $x$ to an output $y$. The model's output is referred to as a **prediction**, denoted by $\\hat{y}$.\n",
        "* We **evaluate** predictions by comparing them to the true labels. This measurement is called a **loss** or **error**. For real-valued data, **mean squared error** is a common metric.\n",
        "* A model is only as good as its ability to **generalize** to new examples."
      ]
    }
  ],
  "metadata": {
    "accelerator": "GPU",
    "colab": {
      "provenance": []
    },
    "kernelspec": {
      "display_name": "Python 3",
      "language": "python",
      "name": "python3"
    },
    "language_info": {
      "codemirror_mode": {
        "name": "ipython",
        "version": 3
      },
      "file_extension": ".py",
      "mimetype": "text/x-python",
      "name": "python",
      "nbconvert_exporter": "python",
      "pygments_lexer": "ipython3",
      "version": "3.8.3"
    },
    "gpuClass": "standard"
  },
  "nbformat": 4,
  "nbformat_minor": 0
}